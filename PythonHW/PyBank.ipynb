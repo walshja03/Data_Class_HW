{
 "cells": [
  {
   "cell_type": "code",
   "execution_count": 30,
   "metadata": {},
   "outputs": [],
   "source": [
    "import os\n",
    "import csv\n",
    "from pathlib import Path\n",
    "from statistics import mean"
   ]
  },
  {
   "cell_type": "code",
   "execution_count": 31,
   "metadata": {},
   "outputs": [],
   "source": [
    "budget_file = Path(\"\"\"C:/Users/walsh/Desktop/DABC/unc-chacc-data-pt-03-2020-u-c/02-Homework/03-Python/Instructions/PyBank/Resources/budget_data.csv\"\"\")"
   ]
  },
  {
   "cell_type": "code",
   "execution_count": 32,
   "metadata": {},
   "outputs": [
    {
     "data": {
      "text/plain": [
       "WindowsPath('C:/Users/walsh/Desktop/DABC/unc-chacc-data-pt-03-2020-u-c/02-Homework/03-Python/Instructions/PyBank/Resources/budget_data.csv')"
      ]
     },
     "execution_count": 32,
     "metadata": {},
     "output_type": "execute_result"
    }
   ],
   "source": [
    "budget_file"
   ]
  },
  {
   "cell_type": "code",
   "execution_count": 33,
   "metadata": {},
   "outputs": [],
   "source": [
    "#variable to store the headers in\n",
    "header = []\n",
    "# open the csv file to read\n",
    "with open(budget_file) as csvfile:\n",
    "    csvreader = csv.reader(csvfile,delimiter = ',')\n",
    "    #define total months to count how many records\n",
    "    total_months = 0\n",
    "    # define total profit/loss\n",
    "    total_profit = float(0.00)\n",
    "    \n",
    "    #variable so that I can do an if to bypass the first line because it didn't have data\n",
    "    firstline = True\n",
    "    #variable so that I could skip first line of data because when I calculated change I had to start with the second row\n",
    "    secondline = True\n",
    "    #list to store the changes so that I could calculate average change\n",
    "    avg_change = [] # <------probably should've just called this change\n",
    "    #used to store so that I could find change by doing previous-current\n",
    "    previous = 0.00\n",
    "    \n",
    "    #iterate through row by row\n",
    "    for row in csvreader:\n",
    "        \n",
    "        \n",
    "        # initial credit Stack overflow (https://stackoverflow.com/questions/14674275/skip-first-linefield-in-loop-using-csv-file)\n",
    "        if firstline:\n",
    "            #for loop to store the header\n",
    "            for i in row:\n",
    "                header.append(i)\n",
    "            #reset so that the loop runs after the header row\n",
    "            firstline = False\n",
    "        else:\n",
    "            #Find the total profit\n",
    "            total_profit = total_profit + float(row[1])\n",
    "            \n",
    "            #count the number of months\n",
    "            total_months +=1\n",
    "            \n",
    "            if secondline:\n",
    "                secondline = False\n",
    "                previous = float(row[1])\n",
    "            else:\n",
    "                #add the change into a list\n",
    "                avg_change.append((float(row[1]))-previous)\n",
    "                test += 1\n",
    "            #Change previous to next value before next loop\n",
    "                previous = float(row[1])\n",
    "    \n",
    "    #print(total_months)  <---- Check\n",
    "    #print(str(total_profit))  <---- Check\n",
    "    #print(str(test))  <---- Check\n",
    "    #print(str(previous))  <---- Check\n",
    "    #print(int(len(avg_change)))  <---- Check\n",
    "    #print(header)  <---- Check and look I stored the headers"
   ]
  },
  {
   "cell_type": "code",
   "execution_count": 34,
   "metadata": {},
   "outputs": [],
   "source": [
    "#looked this up to store the different rows to reference.  Oddly looking now (3/26) Steve showed this looping to fill \n",
    "# a list yesterday and now I understand what the code is doing\n",
    "with open(budget_file) as csvfile:\n",
    "    csvreader = csv.reader(csvfile,delimiter = ',')\n",
    "    data_ref =[r for r in csvreader]"
   ]
  },
  {
   "cell_type": "code",
   "execution_count": 35,
   "metadata": {},
   "outputs": [],
   "source": [
    "#check that above code worked\n",
    "#print(data_ref)"
   ]
  },
  {
   "cell_type": "code",
   "execution_count": 36,
   "metadata": {
    "scrolled": true
   },
   "outputs": [],
   "source": [
    "#check that the avg change was correct.  Since the data set was small I compared to the excel sheet I did the calcs in\n",
    "#print(avg_change)"
   ]
  },
  {
   "cell_type": "code",
   "execution_count": 37,
   "metadata": {},
   "outputs": [],
   "source": [
    "#Calculation to find the average change\n",
    "average = mean(avg_change)\n",
    "#print(average)  <---- Check"
   ]
  },
  {
   "cell_type": "code",
   "execution_count": 38,
   "metadata": {},
   "outputs": [],
   "source": [
    "#calculaiton to find the greatest decrease\n",
    "greatest_decrease = min(avg_change)\n",
    "#print(greatest_decrease) <---- Check"
   ]
  },
  {
   "cell_type": "code",
   "execution_count": 39,
   "metadata": {},
   "outputs": [],
   "source": [
    "#calculation to find the greatest increase\n",
    "greatest_increase = max(avg_change)\n",
    "#print(greatest_increase)  <---- Check"
   ]
  },
  {
   "cell_type": "code",
   "execution_count": 40,
   "metadata": {},
   "outputs": [
    {
     "data": {
      "text/plain": [
       "24"
      ]
     },
     "execution_count": 40,
     "metadata": {},
     "output_type": "execute_result"
    }
   ],
   "source": [
    "#practice finding the index of the greatest increase before putting into the results. \n",
    "#Realized I had to do +2 to account for the fact that there was a header row and 1st row which couldn't calculate\n",
    "avg_change.index(greatest_increase)"
   ]
  },
  {
   "cell_type": "code",
   "execution_count": 41,
   "metadata": {},
   "outputs": [
    {
     "data": {
      "text/plain": [
       "43"
      ]
     },
     "execution_count": 41,
     "metadata": {},
     "output_type": "execute_result"
    }
   ],
   "source": [
    "#practice finding the index of the greatest decrease before putting into the results\n",
    "avg_change.index(greatest_decrease)"
   ]
  },
  {
   "cell_type": "code",
   "execution_count": 42,
   "metadata": {
    "scrolled": true
   },
   "outputs": [
    {
     "name": "stdout",
     "output_type": "stream",
     "text": [
      "Total Months: 86\n",
      "Total: $38382578\n",
      "Average Change: $-2315.12\n",
      "Greatest Increase in Profits: Feb-2012 ($1926159)\n",
      "Greatest Decrease in Profits: Sep-2013 ($-2196167)\n"
     ]
    }
   ],
   "source": [
    "# Create results list to make it easy to iterate through and display\n",
    "results=[]\n",
    "results.append(str(\"Total Months: \" + str(total_months)))\n",
    "results.append(str((\"Total: $\" + str(int(total_profit)))))\n",
    "results.append(str(\"Average Change: $\" + str(round(average,2))))\n",
    "results.append(str(\"Greatest Increase in Profits: \" + str(data_ref[avg_change.index(greatest_increase)+2][0]) +\" ($\"+str(int(greatest_increase))+\")\"))\n",
    "results.append(str(\"Greatest Decrease in Profits: \" + str(data_ref[avg_change.index(greatest_decrease)+2][0]) +\" ($\"+str(int(greatest_decrease))+\")\"))\n",
    "\n",
    "\n"
   ]
  },
  {
   "cell_type": "code",
   "execution_count": 51,
   "metadata": {},
   "outputs": [
    {
     "name": "stdout",
     "output_type": "stream",
     "text": [
      "Financial Analysis \n",
      "--------------------------------------\n",
      "\n",
      "Total Months: 86\n",
      "Total: $38382578\n",
      "Average Change: $-2315.12\n",
      "Greatest Increase in Profits: Feb-2012 ($1926159)\n",
      "Greatest Decrease in Profits: Sep-2013 ($-2196167)\n"
     ]
    }
   ],
   "source": [
    "print(f\"Financial Analysis \\n--------------------------------------\\n\")\n",
    "#Loop to print results to the terminal in a orderly fashion\n",
    "for line in results:\n",
    "    print(line)"
   ]
  },
  {
   "cell_type": "code",
   "execution_count": 49,
   "metadata": {},
   "outputs": [],
   "source": [
    "#Create file and write the results to it\n",
    "out_file = open(\"C:/Users/walsh/Desktop/DABC/PythonHW/PyBank.txt\", \"w\")\n",
    "#print the header row\n",
    "out_file.write(f\"Financial Analysis \\n--------------------------------------\\n\")\n",
    "#Loop to print results line by line\n",
    "for line in results:\n",
    "    out_file.write(line)\n",
    "    out_file.write(\"\\n\")\n",
    "out_file.write(f\"\\n \\n \\n headers {header[0]}: {header[1]}\")\n",
    "out_file.close()"
   ]
  },
  {
   "cell_type": "code",
   "execution_count": null,
   "metadata": {},
   "outputs": [],
   "source": []
  }
 ],
 "metadata": {
  "kernelspec": {
   "display_name": "Python 3",
   "language": "python",
   "name": "python3"
  },
  "language_info": {
   "codemirror_mode": {
    "name": "ipython",
    "version": 3
   },
   "file_extension": ".py",
   "mimetype": "text/x-python",
   "name": "python",
   "nbconvert_exporter": "python",
   "pygments_lexer": "ipython3",
   "version": "3.7.6"
  }
 },
 "nbformat": 4,
 "nbformat_minor": 4
}
