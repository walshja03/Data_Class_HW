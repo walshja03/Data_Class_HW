{
 "cells": [
  {
   "cell_type": "code",
   "execution_count": 15,
   "metadata": {},
   "outputs": [],
   "source": [
    "import os\n",
    "import csv\n",
    "from pathlib import Path\n",
    "from statistics import mean"
   ]
  },
  {
   "cell_type": "code",
   "execution_count": 16,
   "metadata": {},
   "outputs": [],
   "source": [
    "poll_data = Path(\"\"\"C:/Users/walsh/Desktop/DABC/unc-chacc-data-pt-03-2020-u-c/02-Homework/03-Python/Instructions/PyPoll/Resources/election_data.csv\"\"\")"
   ]
  },
  {
   "cell_type": "code",
   "execution_count": 53,
   "metadata": {},
   "outputs": [
    {
     "name": "stdout",
     "output_type": "stream",
     "text": [
      "3521001\n",
      "['Khan', 'Correy', 'Li', \"O'Tooley\"]\n",
      "{'Khan': 2218231, 'Correy': 704200, 'Li': 492940, \"O'Tooley\": 105630}\n",
      "['Voter ID', 'County', 'Candidate']\n"
     ]
    }
   ],
   "source": [
    "#variable define to find the total votes\n",
    "total_votes = 0 \n",
    "#list to store the candidates\n",
    "candidates = []\n",
    "#dictionary to hold candidates vote tally\n",
    "votes_per_candidate = {}\n",
    "#variable to store headers\n",
    "header= []\n",
    "#Read in the poll data temporarily\n",
    "with open(poll_data) as csvfile:\n",
    "    csvreader = csv.reader(csvfile,delimiter = ',')\n",
    "    \n",
    "    #set a variable to true so that I can read in the header row\n",
    "    firstline = True\n",
    "    #vc_cand1 = 1\n",
    "    #vc_cand2 = 1\n",
    "    #vc_cand3 = 1\n",
    "    #c_cand4 = 1\n",
    "    \n",
    "    for rows in csvreader:\n",
    "        \n",
    "        #If statement to skip grab and store the header line\n",
    "        if firstline:\n",
    "            #store the header rows\n",
    "            for i in rows:\n",
    "                header.append(i)\n",
    "            #reset so that the loop runs after the header row\n",
    "            firstline = False\n",
    "        else:\n",
    "            total_votes +=1\n",
    "            \n",
    "            #check to see if candidate name in list, if it isn't\n",
    "            if rows[2] not in candidates:\n",
    "                \n",
    "                #add candidate name to the list\n",
    "                candidates.append(rows[2])\n",
    "                \n",
    "                #create vote count for candidate that is at 1\n",
    "                votes_per_candidate.update({rows[2] : 1})\n",
    "                \n",
    "                #\n",
    "            \n",
    "            #if name in the list\n",
    "            else:\n",
    "                if rows[2] ==candidates[0]:\n",
    "                    \n",
    "                    #increment votes for 1st candidate\n",
    "                    votes_per_candidate[candidates[0]]+=1\n",
    "                    #vote_tally[votes][str(candidates[0])] +=1\n",
    "                    #vc_cand1 = vc_cand1 + 1\n",
    "                    \n",
    "                elif rows[2] == candidates[1]:\n",
    "                    \n",
    "                    #increment votes for 2nd candidate\n",
    "                    votes_per_candidate[candidates[1]]+=1\n",
    "                    #vc_cand2 = vc_cand2 + 1\n",
    "                elif rows[2] == candidates[2]:\n",
    "                    votes_per_candidate[candidates[2]]+=1\n",
    "                    #vc_cand3 = vc_cand3 + 1\n",
    "                elif rows[2] == candidates[3]:\n",
    "                    votes_per_candidate[candidates[3]]+=1\n",
    "                    #vc_cand4 = vc_cand4 + 1\n",
    "    print(total_votes)\n",
    "    print(candidates)\n",
    "  \n",
    "    #print(vote_tally)\n",
    "    print(votes_per_candidate)\n",
    "print(header)"
   ]
  },
  {
   "cell_type": "code",
   "execution_count": 60,
   "metadata": {},
   "outputs": [
    {
     "name": "stdout",
     "output_type": "stream",
     "text": [
      "0.6300001050837531\n",
      "0.19999994319797126\n",
      "0.13999996023857988\n",
      "0.02999999147969569\n"
     ]
    }
   ],
   "source": [
    "print(votes_per_candidate[candidates[0]]/total_votes)\n",
    "print(votes_per_candidate[candidates[1]]/total_votes)\n",
    "print(votes_per_candidate[candidates[2]]/total_votes)\n",
    "print(votes_per_candidate[candidates[3]]/total_votes)"
   ]
  },
  {
   "cell_type": "code",
   "execution_count": 22,
   "metadata": {},
   "outputs": [],
   "source": [
    "#list to store results so they could be printed by looping \n",
    "results = []"
   ]
  },
  {
   "cell_type": "code",
   "execution_count": 48,
   "metadata": {},
   "outputs": [],
   "source": [
    "#needed to reset the results after running\n",
    "results.clear()"
   ]
  },
  {
   "cell_type": "code",
   "execution_count": 54,
   "metadata": {},
   "outputs": [],
   "source": [
    "#Change Candidates percentage to the proper format\n",
    "c1_votes = '{percent1:.3%}'.format(percent1 = votes_per_candidate[candidates[0]]/total_votes) \n",
    "#print(c1_votes)   <---------Check to see if it worked\n",
    "c2_votes = '{percent2:.3%}'.format(percent2 = votes_per_candidate[candidates[3]]/total_votes)\n",
    "c3_votes ='{percent3:.3%}'.format(percent3 = votes_per_candidate[candidates[1]]/total_votes)\n",
    "c4_votes = '{percent4:.3%}'.format(percent4 = votes_per_candidate[candidates[2]]/total_votes)"
   ]
  },
  {
   "cell_type": "code",
   "execution_count": 49,
   "metadata": {},
   "outputs": [
    {
     "name": "stdout",
     "output_type": "stream",
     "text": [
      "['Khan: 63.000% (2218231)', 'Correy: 3.000% (704200)', 'Li: 20.000% (492940)', \"O'Tooley: 14.000% (105630)\"]\n"
     ]
    }
   ],
   "source": [
    "#add results of candidates in a good format to print to my file\n",
    "results.append(str(candidates[0]) + \": \" + str(c1_votes) + \" (\"  + str(votes_per_candidate[candidates[0]]) + \")\")\n",
    "results.append(str(candidates[1]) + \": \" + str(c2_votes) + \" (\"  + str(votes_per_candidate[candidates[1]]) + \")\")\n",
    "results.append(str(candidates[2]) + \": \" + str(c3_votes) + \" (\"  + str(votes_per_candidate[candidates[2]]) + \")\")\n",
    "results.append(str(candidates[3]) + \": \" + str(c4_votes) + \" (\"  + str(votes_per_candidate[candidates[3]]) + \")\")\n"
   ]
  },
  {
   "cell_type": "code",
   "execution_count": 60,
   "metadata": {},
   "outputs": [
    {
     "name": "stdout",
     "output_type": "stream",
     "text": [
      "Election Results \n",
      "--------------------------- \n",
      "Total Votes: 3521001\n",
      "---------------------------\n",
      "\n",
      "Khan: 63.000% (2218231)\n",
      "Correy: 3.000% (704200)\n",
      "Li: 20.000% (492940)\n",
      "O'Tooley: 14.000% (105630)\n",
      "---------------------------\n",
      "Winner: Khan\n",
      "---------------------------\n"
     ]
    }
   ],
   "source": [
    "#Print the results to the terminal\n",
    "print(f'Election Results \\n--------------------------- \\nTotal Votes: {total_votes}\\n---------------------------\\n')\n",
    "for i in results:\n",
    "    print(i)\n",
    "print(\"---------------------------\\nWinner: Khan\\n---------------------------\")"
   ]
  },
  {
   "cell_type": "code",
   "execution_count": 52,
   "metadata": {},
   "outputs": [],
   "source": [
    "out_file = open(\"C:/Users/walsh/Desktop/DABC/PythonHW/PyPoll.txt\", \"w\")\n",
    "out_file.write(f'Election Results \\n--------------------------- \\nTotal Votes: {total_votes}\\n---------------------------\\n')\n",
    "for line in results:\n",
    "     out_file.write(str(line))\n",
    "     out_file.write(\"\\n\")\n",
    "out_file.write(\"---------------------------\\nWinner: Khan\\n---------------------------\")\n",
    "out_file.close()"
   ]
  },
  {
   "cell_type": "code",
   "execution_count": null,
   "metadata": {},
   "outputs": [],
   "source": []
  }
 ],
 "metadata": {
  "kernelspec": {
   "display_name": "Python 3",
   "language": "python",
   "name": "python3"
  },
  "language_info": {
   "codemirror_mode": {
    "name": "ipython",
    "version": 3
   },
   "file_extension": ".py",
   "mimetype": "text/x-python",
   "name": "python",
   "nbconvert_exporter": "python",
   "pygments_lexer": "ipython3",
   "version": "3.7.6"
  }
 },
 "nbformat": 4,
 "nbformat_minor": 4
}
